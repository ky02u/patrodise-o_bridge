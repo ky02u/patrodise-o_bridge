{
  "nbformat": 4,
  "nbformat_minor": 0,
  "metadata": {
    "colab": {
      "name": "Ejemplo_bridge.ipynb",
      "provenance": [],
      "collapsed_sections": []
    },
    "kernelspec": {
      "name": "python3",
      "display_name": "Python 3"
    },
    "language_info": {
      "name": "python"
    }
  },
  "cells": [
    {
      "cell_type": "code",
      "execution_count": 1,
      "metadata": {
        "colab": {
          "base_uri": "https://localhost:8080/"
        },
        "id": "07CX9MYKx829",
        "outputId": "b87038bb-cf94-47ad-8235-fc9b90abb234"
      },
      "outputs": [
        {
          "output_type": "stream",
          "name": "stdout",
          "text": [
            "API1 is producing Cuboid with length = 1,  Breadth = 2 and Height = 3\n",
            "API2 is producing Cuboid with length = 19,  Breadth = 19 and Height = 19\n"
          ]
        }
      ],
      "source": [
        "\"\"\" Código implementado con Bridge Method.\n",
        "    Tenemos una clase Cuboid que tiene tres atributos.\n",
        "    nombrados como largo, ancho y alto y tres\n",
        "    métodos denominados como ProduceWithAPIOne(), ProduceWithAPItwo(),\n",
        "    y expand(). Nuestro propósito es separar la abstracción específica de la implementación de la abstracción independiente de la implementación.\"\"\"\n",
        " \n",
        "class ProducingAPI1:\n",
        " \n",
        "    \"\"\"Implementation specific Abstraction\"\"\"\n",
        " \n",
        "    def produceCuboid(self, length, breadth, height):\n",
        " \n",
        "        print(f'API1 is producing Cuboid with length = {length}, '\n",
        "              f' Breadth = {breadth} and Height = {height}')\n",
        " \n",
        "class ProducingAPI2:\n",
        " \n",
        "    \"\"\"Implementation specific Abstraction\"\"\"\n",
        " \n",
        "    def produceCuboid(self, length, breadth, height):\n",
        " \n",
        "        print(f'API2 is producing Cuboid with length = {length}, '\n",
        "              f' Breadth = {breadth} and Height = {height}')\n",
        " \n",
        "class Cuboid:\n",
        " \n",
        "    def __init__(self, length, breadth, height, producingAPI):\n",
        " \n",
        "           Implementation independent Abstraction\"\"\"\n",
        " \n",
        "        self._length = length\n",
        "        self._breadth = breadth\n",
        "        self._height = height\n",
        " \n",
        "        self._producingAPI = producingAPI\n",
        " \n",
        "    def produce(self):\n",
        " \n",
        "        \"\"\"Implementation specific Abstraction\"\"\"\n",
        " \n",
        "        self._producingAPI.produceCuboid(self._length, self._breadth, self._height)\n",
        " \n",
        "    def expand(self, times):\n",
        " \n",
        "        \"\"\"Implementation independent Abstraction\"\"\"\n",
        " \n",
        "        self._length = self._length * times\n",
        "        self._breadth = self._breadth * times\n",
        "        self._height = self._height * times\n",
        " \n",
        "cuboid1 = Cuboid(1, 2, 3, ProducingAPI1())\n",
        "cuboid1.produce()\n",
        " \n",
        "cuboid2 = Cuboid(19, 19, 19, ProducingAPI2())\n",
        "cuboid2.produce()"
      ]
    }
  ]
}
